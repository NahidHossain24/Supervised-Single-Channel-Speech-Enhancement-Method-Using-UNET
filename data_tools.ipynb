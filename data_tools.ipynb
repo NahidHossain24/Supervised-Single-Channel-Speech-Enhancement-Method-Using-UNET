{
 "cells": [
  {
   "cell_type": "code",
   "execution_count": 1,
   "id": "83165d7d",
   "metadata": {},
   "outputs": [],
   "source": [
    "import librosa\n",
    "import numpy as np\n",
    "import os\n",
    "import re\n",
    "from scipy.linalg import norm\n",
    "import soundfile as sf"
   ]
  },
  {
   "cell_type": "code",
   "execution_count": 2,
   "id": "af7859e2",
   "metadata": {},
   "outputs": [],
   "source": [
    "def audio_to_audio_frame_stack(sound_data, frame_length, hop_length_frame):\n",
    "    sequence_sample_length = sound_data.shape[0]\n",
    "\n",
    "    sound_data_list = [sound_data[start:start + frame_length] for start in range(0, sequence_sample_length - frame_length + 1, hop_length_frame)]  # get sliding windows\n",
    "    sound_data_array = np.vstack(sound_data_list)\n",
    "\n",
    "    return sound_data_array"
   ]
  },
  {
   "cell_type": "code",
   "execution_count": 3,
   "id": "3c6c0fca",
   "metadata": {},
   "outputs": [],
   "source": [
    "def audio_files_to_numpy(audio_dir, list_audio_files, sample_rate, frame_length, hop_length_frame, min_duration):\n",
    "    list_sound_array = []\n",
    "\n",
    "    for file in list_audio_files:\n",
    "        # open the audio file\n",
    "        y, sr = librosa.load(os.path.join(audio_dir, file), sr=sample_rate)\n",
    "        total_duration = librosa.get_duration(y=y, sr=sr)\n",
    "\n",
    "        if (total_duration >= min_duration):\n",
    "            list_sound_array.append(audio_to_audio_frame_stack(y, frame_length, hop_length_frame))\n",
    "        else:\n",
    "            print(f\"The following file {os.path.join(audio_dir,file)} is below the min duration\")\n",
    "\n",
    "    return np.vstack(list_sound_array)"
   ]
  },
  {
   "cell_type": "code",
   "execution_count": 4,
   "id": "0e5e499b",
   "metadata": {},
   "outputs": [],
   "source": [
    "def audio_files_to_numpy2(audio_dir, audio_file, sample_rate, frame_length, hop_length_frame, min_duration):\n",
    "    list_sound_array = []\n",
    "    y, sr = librosa.load(os.path.join(audio_dir, audio_file), sr=sample_rate)\n",
    "    list_sound_array.append(audio_to_audio_frame_stack(y, frame_length, hop_length_frame))\n",
    "    return np.vstack(list_sound_array)"
   ]
  },
  {
   "cell_type": "code",
   "execution_count": 5,
   "id": "4e54307e",
   "metadata": {},
   "outputs": [],
   "source": [
    "def predicted_data(audio_dir, audio_file, sample_rate):\n",
    "    for file in audio_file:\n",
    "        # open the audio file\n",
    "        y, sr = librosa.load(os.path.join(audio_dir, file), sr=sample_rate)\n",
    "    return y"
   ]
  },
  {
   "cell_type": "code",
   "execution_count": 6,
   "id": "97e19a39",
   "metadata": {},
   "outputs": [],
   "source": [
    "def blend_noise_randomly(voice, noise, nb_samples, frame_length, SNR):\n",
    "    prod_voice = np.zeros((nb_samples, frame_length))\n",
    "    prod_noise = np.zeros((nb_samples, frame_length))\n",
    "    prod_noisy_voice = np.zeros((nb_samples, frame_length))\n",
    "\n",
    "    for i in range(nb_samples):\n",
    "        prod_voice[i, :] = voice[i, :]\n",
    "        prod_noise[i, :] = noise[i, :]/norm(noise[i, :])*10**(-SNR/20)*norm(voice[i, :]);\n",
    "        prod_noisy_voice[i, :] = prod_voice[i, :] + prod_noise[i, :]\n",
    "\n",
    "    return prod_voice, prod_noise, prod_noisy_voice"
   ]
  },
  {
   "cell_type": "code",
   "execution_count": 7,
   "id": "072e9b63",
   "metadata": {},
   "outputs": [],
   "source": [
    "def audio_to_magnitude_db_and_phase(n_fft, hop_length_fft, audio):\n",
    "    stftaudio = librosa.stft(audio, n_fft=n_fft, hop_length=hop_length_fft)\n",
    "    \n",
    "    #real= np.real(stftaudio)\n",
    "    #imaginary= np.imag(stftaudio)\n",
    "    real= stftaudio.real\n",
    "    imaginary= stftaudio.imag\n",
    "    \n",
    "    return stftaudio, real, imaginary"
   ]
  },
  {
   "cell_type": "code",
   "execution_count": 8,
   "id": "5aa2a525",
   "metadata": {},
   "outputs": [],
   "source": [
    "def numpy_audio_to_matrix_spectrogram(numpy_audio, dim_square_spec, n_fft, hop_length_fft):\n",
    "    nb_audio = numpy_audio.shape[0]\n",
    "    \n",
    "    complex_mat= np.zeros((nb_audio, dim_square_spec, dim_square_spec), dtype=complex)\n",
    "    m_mag_db = np.zeros((nb_audio, dim_square_spec, dim_square_spec))\n",
    "    m_phase = np.zeros((nb_audio, dim_square_spec, dim_square_spec), dtype=complex)\n",
    "\n",
    "    for i in range(nb_audio):\n",
    "        complex_mat[i, :, :], m_mag_db[i, :, :], m_phase[i, :, :] = audio_to_magnitude_db_and_phase(n_fft, hop_length_fft, numpy_audio[i])\n",
    "\n",
    "    return complex_mat, m_mag_db, m_phase"
   ]
  },
  {
   "cell_type": "code",
   "execution_count": 9,
   "id": "d5f30c00",
   "metadata": {},
   "outputs": [],
   "source": [
    "def magnitude_db_and_phase_to_audio(frame_length, hop_length_fft, mag, phase):\n",
    "\n",
    "    # taking magnitude and phase of audio\n",
    "    audio_reverse_stft = mag*phase\n",
    "    audio_reconstruct = librosa.core.istft(audio_reverse_stft, hop_length=hop_length_fft, length=frame_length)\n",
    "    return audio_reconstruct"
   ]
  },
  {
   "cell_type": "code",
   "execution_count": 10,
   "id": "257431ae",
   "metadata": {},
   "outputs": [],
   "source": [
    "def matrix_spectrogram_to_numpy_audio(m_mag_db, m_phase, frame_length, hop_length_fft)  :\n",
    "    list_audio = []\n",
    "\n",
    "    nb_spec = m_mag_db.shape[0]\n",
    "\n",
    "    for i in range(nb_spec):\n",
    "\n",
    "        audio_reconstruct = magnitude_db_and_phase_to_audio(frame_length, hop_length_fft, m_mag_db[i], m_phase[i])\n",
    "        list_audio.append(audio_reconstruct)\n",
    "\n",
    "    return np.vstack(list_audio)"
   ]
  },
  {
   "cell_type": "code",
   "execution_count": 11,
   "id": "6f96c2b1",
   "metadata": {},
   "outputs": [],
   "source": [
    "def new_path(path, SNR):\n",
    "    if SNR==-10:\n",
    "        path= path+'-10/'\n",
    "    elif SNR==-5:\n",
    "        path= path+'-5/'\n",
    "    elif SNR==0:\n",
    "        path= path+'0/'\n",
    "    elif SNR==5:\n",
    "        path= path+'5/'\n",
    "    elif SNR==10:\n",
    "        path= path+'10/'\n",
    "    return path"
   ]
  },
  {
   "cell_type": "code",
   "execution_count": 12,
   "id": "8e2a5ad8",
   "metadata": {},
   "outputs": [],
   "source": [
    "def mixing(voice_dir, noise_dir, list_speech, list_noise, SNR, sample_rate, path):\n",
    "    for i in range(len(SNR)):\n",
    "        for j in range(len(list_noise)):\n",
    "            n= os.path.splitext(list_noise[j])[0]\n",
    "            for k in range(len(list_speech)):\n",
    "                s= os.path.splitext(list_speech[k])[0]\n",
    "                clean, clean_sr = librosa.load(os.path.join(voice_dir, list_speech[k]), sr=sample_rate)\n",
    "                noise, noise_sr = librosa.load(os.path.join(noise_dir, list_noise[j]), sr=sample_rate)\n",
    "                noise=noise/norm(noise)*10**(-SNR[i]/20)*norm(clean)\n",
    "                noisy= clean + noise\n",
    "                out_path= new_path(path, SNR[i])\n",
    "                sf.write(out_path+s+' '+n+'.wav', noisy, sample_rate)"
   ]
  },
  {
   "cell_type": "code",
   "execution_count": 13,
   "id": "44530178",
   "metadata": {},
   "outputs": [],
   "source": [
    "def mixing2(voice_dir, noise_dir, list_speech, list_noise, SNR, sample_rate, path):\n",
    "    for i in range(len(SNR)):\n",
    "        for j in range(len(list_noise)):\n",
    "            s= os.path.splitext(list_noise[j])[0]\n",
    "            for k in range(len(list_speech)):\n",
    "                n= os.path.splitext(list_speech[k])[0]\n",
    "                clean, clean_sr = librosa.load(os.path.join(voice_dir, list_speech[k]), sr=sample_rate)\n",
    "                noise, noise_sr = librosa.load(os.path.join(noise_dir, list_noise[j]), sr=sample_rate)\n",
    "                noise=noise/norm(noise)*10**(-SNR[i]/20)*norm(clean)\n",
    "                noisy= clean + noise\n",
    "                out_path= new_path(path, SNR[i])\n",
    "                sf.write(out_path+s+' '+n+'.wav', noisy, sample_rate)"
   ]
  },
  {
   "cell_type": "code",
   "execution_count": 14,
   "id": "6597ae51",
   "metadata": {},
   "outputs": [],
   "source": [
    "def DTCWT(data, num_levels):\n",
    "    transform= dtcwt.Transform1d()\n",
    "    data_trans= transform.forward(data, nlevels= num_levels)\n",
    "    return data_trans"
   ]
  },
  {
   "cell_type": "code",
   "execution_count": 15,
   "id": "93fe406c",
   "metadata": {},
   "outputs": [],
   "source": [
    "def Recon_wave(obj):\n",
    "    inverse= dtcwt.Transform1d().inverse(obj)\n",
    "    return inverse"
   ]
  },
  {
   "cell_type": "code",
   "execution_count": 16,
   "id": "5b77bbd2",
   "metadata": {},
   "outputs": [],
   "source": [
    "def scaled_in(matrix_spec):\n",
    "    matrix_spec = (matrix_spec + 46)/50\n",
    "    return matrix_spec"
   ]
  },
  {
   "cell_type": "code",
   "execution_count": 17,
   "id": "10273d45",
   "metadata": {},
   "outputs": [],
   "source": [
    "def scaled_ou(matrix_spec):\n",
    "    matrix_spec = (matrix_spec -6 )/82\n",
    "    return matrix_spec"
   ]
  },
  {
   "cell_type": "code",
   "execution_count": 18,
   "id": "e12dfa13",
   "metadata": {},
   "outputs": [],
   "source": [
    "def inv_scaled_in(matrix_spec):\n",
    "    matrix_spec = matrix_spec * 50 - 46\n",
    "    return matrix_spec"
   ]
  },
  {
   "cell_type": "code",
   "execution_count": 19,
   "id": "80327d37",
   "metadata": {},
   "outputs": [],
   "source": [
    "def inv_scaled_ou(matrix_spec):\n",
    "    matrix_spec = matrix_spec * 82 + 6\n",
    "    return matrix_spec"
   ]
  },
  {
   "cell_type": "code",
   "execution_count": 20,
   "id": "21f46f07",
   "metadata": {},
   "outputs": [],
   "source": [
    "def sorted_nicely( l ):\n",
    "    convert = lambda text: int(text) if text.isdigit() else text\n",
    "    alphanum_key = lambda key: [convert(c) for c in re.split('([0-9]+)', key)]\n",
    "    return sorted(l, key = alphanum_key)"
   ]
  }
 ],
 "metadata": {
  "kernelspec": {
   "display_name": "Python 3",
   "language": "python",
   "name": "python3"
  },
  "language_info": {
   "codemirror_mode": {
    "name": "ipython",
    "version": 3
   },
   "file_extension": ".py",
   "mimetype": "text/x-python",
   "name": "python",
   "nbconvert_exporter": "python",
   "pygments_lexer": "ipython3",
   "version": "3.6.13"
  }
 },
 "nbformat": 4,
 "nbformat_minor": 5
}
