{
 "cells": [
  {
   "cell_type": "code",
   "execution_count": 1,
   "id": "d97bb230",
   "metadata": {},
   "outputs": [],
   "source": [
    "import argparse"
   ]
  },
  {
   "cell_type": "code",
   "execution_count": 2,
   "id": "3651bc67",
   "metadata": {},
   "outputs": [],
   "source": [
    "parser = argparse.ArgumentParser(description='Speech enhancement,data creation, training and prediction')"
   ]
  },
  {
   "cell_type": "code",
   "execution_count": 3,
   "id": "3051ac11",
   "metadata": {},
   "outputs": [
    {
     "data": {
      "text/plain": [
       "_StoreAction(option_strings=['--mode'], dest='mode', nargs=None, const=None, default='prediction', type=<class 'str'>, choices=['data_creation', 'training', 'prediction'], help=None, metavar=None)"
      ]
     },
     "execution_count": 3,
     "metadata": {},
     "output_type": "execute_result"
    }
   ],
   "source": [
    "parser.add_argument('--mode',default='prediction', type=str, choices=['data_creation', 'training', 'prediction'])"
   ]
  },
  {
   "cell_type": "code",
   "execution_count": 4,
   "id": "94c7ecd4",
   "metadata": {},
   "outputs": [
    {
     "data": {
      "text/plain": [
       "_StoreAction(option_strings=['--train_voice_dir'], dest='train_voice_dir', nargs=None, const=None, default='./Dataset/Train/Speech/', type=<class 'str'>, choices=None, help=None, metavar=None)"
      ]
     },
     "execution_count": 4,
     "metadata": {},
     "output_type": "execute_result"
    }
   ],
   "source": [
    "parser.add_argument('--train_noise_dir', default='./Dataset/Train/Noise/', type=str)\n",
    "parser.add_argument('--train_voice_dir', default='./Dataset/Train/Speech/', type=str)"
   ]
  },
  {
   "cell_type": "code",
   "execution_count": 5,
   "id": "681433b3",
   "metadata": {},
   "outputs": [
    {
     "data": {
      "text/plain": [
       "_StoreAction(option_strings=['--test_voice_dir'], dest='test_voice_dir', nargs=None, const=None, default='./Dataset/Test/Male/', type=<class 'str'>, choices=None, help=None, metavar=None)"
      ]
     },
     "execution_count": 5,
     "metadata": {},
     "output_type": "execute_result"
    }
   ],
   "source": [
    "parser.add_argument('--test_noise_dir', default='./Dataset/Test/Noise/', type=str)\n",
    "parser.add_argument('--test_voice_dir', default='./Dataset/Test/Speech/', type=str)"
   ]
  },
  {
   "cell_type": "code",
   "execution_count": 6,
   "id": "43326d3f",
   "metadata": {},
   "outputs": [
    {
     "data": {
      "text/plain": [
       "_StoreAction(option_strings=['--fig_dir'], dest='fig_dir', nargs=None, const=None, default='./Loss curve/', type=<class 'str'>, choices=None, help=None, metavar=None)"
      ]
     },
     "execution_count": 6,
     "metadata": {},
     "output_type": "execute_result"
    }
   ],
   "source": [
    "parser.add_argument('--fig_dir', default='./Loss curve/', type=str)"
   ]
  },
  {
   "cell_type": "code",
   "execution_count": 7,
   "id": "8024d257",
   "metadata": {},
   "outputs": [
    {
     "data": {
      "text/plain": [
       "_StoreAction(option_strings=['--path_save_sound'], dest='path_save_sound', nargs=None, const=None, default='./Train/sound/', type=<class 'str'>, choices=None, help=None, metavar=None)"
      ]
     },
     "execution_count": 7,
     "metadata": {},
     "output_type": "execute_result"
    }
   ],
   "source": [
    "parser.add_argument('--path_save_spectrogram', default='./Train/spectrogram/', type=str)\n",
    "parser.add_argument('--path_save_time_series', default='./Train/time_series/', type=str)\n",
    "parser.add_argument('--path_save_sound', default='./Train/sound/', type=str)"
   ]
  },
  {
   "cell_type": "code",
   "execution_count": 8,
   "id": "8995f748",
   "metadata": {},
   "outputs": [
    {
     "data": {
      "text/plain": [
       "_StoreAction(option_strings=['--nb_samples'], dest='nb_samples', nargs=None, const=None, default=12000, type=<class 'int'>, choices=None, help=None, metavar=None)"
      ]
     },
     "execution_count": 8,
     "metadata": {},
     "output_type": "execute_result"
    }
   ],
   "source": [
    "parser.add_argument('--nb_samples', default=12000, type=int)"
   ]
  },
  {
   "cell_type": "code",
   "execution_count": 9,
   "id": "77a9f5f0",
   "metadata": {},
   "outputs": [
    {
     "data": {
      "text/plain": [
       "_StoreAction(option_strings=['--training_from_scratch'], dest='training_from_scratch', nargs=None, const=None, default=True, type=<class 'bool'>, choices=None, help=None, metavar=None)"
      ]
     },
     "execution_count": 9,
     "metadata": {},
     "output_type": "execute_result"
    }
   ],
   "source": [
    "parser.add_argument('--training_from_scratch',default=True, type=bool)"
   ]
  },
  {
   "cell_type": "code",
   "execution_count": 10,
   "id": "0b1f713f",
   "metadata": {},
   "outputs": [
    {
     "data": {
      "text/plain": [
       "_StoreAction(option_strings=['--noise_weigths_folder'], dest='noise_weigths_folder', nargs=None, const=None, default='./Noise_Weigths', type=<class 'str'>, choices=None, help=None, metavar=None)"
      ]
     },
     "execution_count": 10,
     "metadata": {},
     "output_type": "execute_result"
    }
   ],
   "source": [
    "parser.add_argument('--voice_weigths_folder', default='./Speech_Weigths', type=str)\n",
    "parser.add_argument('--noise_weigths_folder', default='./Noise_Weigths', type=str)"
   ]
  },
  {
   "cell_type": "code",
   "execution_count": 11,
   "id": "872cd819",
   "metadata": {},
   "outputs": [
    {
     "data": {
      "text/plain": [
       "_StoreAction(option_strings=['--epochs'], dest='epochs', nargs=None, const=None, default=200, type=<class 'int'>, choices=None, help=None, metavar=None)"
      ]
     },
     "execution_count": 11,
     "metadata": {},
     "output_type": "execute_result"
    }
   ],
   "source": [
    "parser.add_argument('--epochs', default=200, type=int)"
   ]
  },
  {
   "cell_type": "code",
   "execution_count": 12,
   "id": "6269cef0",
   "metadata": {},
   "outputs": [
    {
     "data": {
      "text/plain": [
       "_StoreAction(option_strings=['--batch_size'], dest='batch_size', nargs=None, const=None, default=32, type=<class 'int'>, choices=None, help=None, metavar=None)"
      ]
     },
     "execution_count": 12,
     "metadata": {},
     "output_type": "execute_result"
    }
   ],
   "source": [
    "parser.add_argument('--batch_size', default=32, type=int)"
   ]
  },
  {
   "cell_type": "code",
   "execution_count": 13,
   "id": "586b65ef",
   "metadata": {},
   "outputs": [
    {
     "data": {
      "text/plain": [
       "_StoreAction(option_strings=['--name_model'], dest='name_model', nargs=None, const=None, default='model_unet', type=<class 'str'>, choices=None, help=None, metavar=None)"
      ]
     },
     "execution_count": 13,
     "metadata": {},
     "output_type": "execute_result"
    }
   ],
   "source": [
    "parser.add_argument('--name_model', default='model_unet', type=str)"
   ]
  },
  {
   "cell_type": "code",
   "execution_count": 14,
   "id": "a1df39bc",
   "metadata": {},
   "outputs": [
    {
     "data": {
      "text/plain": [
       "_StoreAction(option_strings=['--audio_dir_prediction'], dest='audio_dir_prediction', nargs=None, const=None, default='./Test/', type=<class 'str'>, choices=None, help=None, metavar=None)"
      ]
     },
     "execution_count": 14,
     "metadata": {},
     "output_type": "execute_result"
    }
   ],
   "source": [
    "parser.add_argument('--audio_dir_prediction', default='./Test/', type=str)"
   ]
  },
  {
   "cell_type": "code",
   "execution_count": 15,
   "id": "fd38f911",
   "metadata": {},
   "outputs": [
    {
     "data": {
      "text/plain": [
       "_StoreAction(option_strings=['--dir_save_prediction'], dest='dir_save_prediction', nargs=None, const=None, default='./Evaluation Techniques/composite/Enhanced/', type=<class 'str'>, choices=None, help=None, metavar=None)"
      ]
     },
     "execution_count": 15,
     "metadata": {},
     "output_type": "execute_result"
    }
   ],
   "source": [
    "parser.add_argument('--dir_save_prediction', default='./Evaluation Techniques/composite/Enhanced/', type=str)"
   ]
  },
  {
   "cell_type": "code",
   "execution_count": 16,
   "id": "52a35e0d",
   "metadata": {},
   "outputs": [
    {
     "data": {
      "text/plain": [
       "_StoreAction(option_strings=['--audio_input_prediction'], dest='audio_input_prediction', nargs=None, const=None, default=['noisy.wav'], type=<class 'list'>, choices=None, help=None, metavar=None)"
      ]
     },
     "execution_count": 16,
     "metadata": {},
     "output_type": "execute_result"
    }
   ],
   "source": [
    "parser.add_argument('--audio_input_prediction', default=['noisy.wav'], type=list)"
   ]
  },
  {
   "cell_type": "code",
   "execution_count": 17,
   "id": "cbe11174",
   "metadata": {},
   "outputs": [
    {
     "data": {
      "text/plain": [
       "_StoreAction(option_strings=['--audio_output_noise_prediction'], dest='audio_output_noise_prediction', nargs=None, const=None, default='on.wav', type=<class 'str'>, choices=None, help=None, metavar=None)"
      ]
     },
     "execution_count": 17,
     "metadata": {},
     "output_type": "execute_result"
    }
   ],
   "source": [
    "parser.add_argument('--audio_output_voice_prediction', default='ov.wav', type=str)\n",
    "parser.add_argument('--audio_output_noise_prediction', default='on.wav', type=str)"
   ]
  },
  {
   "cell_type": "code",
   "execution_count": 18,
   "id": "0ea1a527",
   "metadata": {},
   "outputs": [
    {
     "data": {
      "text/plain": [
       "_StoreAction(option_strings=['--sample_rate'], dest='sample_rate', nargs=None, const=None, default=8000, type=<class 'int'>, choices=None, help=None, metavar=None)"
      ]
     },
     "execution_count": 18,
     "metadata": {},
     "output_type": "execute_result"
    }
   ],
   "source": [
    "parser.add_argument('--sample_rate', default=8000, type=int)"
   ]
  },
  {
   "cell_type": "code",
   "execution_count": 19,
   "id": "5ec3f46a",
   "metadata": {},
   "outputs": [
    {
     "data": {
      "text/plain": [
       "_StoreAction(option_strings=['--min_duration'], dest='min_duration', nargs=None, const=None, default=1.0, type=<class 'float'>, choices=None, help=None, metavar=None)"
      ]
     },
     "execution_count": 19,
     "metadata": {},
     "output_type": "execute_result"
    }
   ],
   "source": [
    "parser.add_argument('--min_duration', default=1.0, type=float)"
   ]
  },
  {
   "cell_type": "code",
   "execution_count": 20,
   "id": "e159988f",
   "metadata": {},
   "outputs": [
    {
     "data": {
      "text/plain": [
       "_StoreAction(option_strings=['--frame_length'], dest='frame_length', nargs=None, const=None, default=8064, type=<class 'int'>, choices=None, help=None, metavar=None)"
      ]
     },
     "execution_count": 20,
     "metadata": {},
     "output_type": "execute_result"
    }
   ],
   "source": [
    "parser.add_argument('--frame_length', default=8064, type=int)"
   ]
  },
  {
   "cell_type": "code",
   "execution_count": 21,
   "id": "c92d6baf",
   "metadata": {},
   "outputs": [
    {
     "data": {
      "text/plain": [
       "_StoreAction(option_strings=['--hop_length_frame'], dest='hop_length_frame', nargs=None, const=None, default=8064, type=<class 'int'>, choices=None, help=None, metavar=None)"
      ]
     },
     "execution_count": 21,
     "metadata": {},
     "output_type": "execute_result"
    }
   ],
   "source": [
    "parser.add_argument('--hop_length_frame', default=8064, type=int)"
   ]
  },
  {
   "cell_type": "code",
   "execution_count": 22,
   "id": "fa45951c",
   "metadata": {},
   "outputs": [
    {
     "data": {
      "text/plain": [
       "_StoreAction(option_strings=['--hop_length_frame_noise'], dest='hop_length_frame_noise', nargs=None, const=None, default=8064, type=<class 'int'>, choices=None, help=None, metavar=None)"
      ]
     },
     "execution_count": 22,
     "metadata": {},
     "output_type": "execute_result"
    }
   ],
   "source": [
    "parser.add_argument('--hop_length_frame_noise', default=8064, type=int)"
   ]
  },
  {
   "cell_type": "code",
   "execution_count": 23,
   "id": "323901cb",
   "metadata": {},
   "outputs": [
    {
     "data": {
      "text/plain": [
       "_StoreAction(option_strings=['--hop_length_fft'], dest='hop_length_fft', nargs=None, const=None, default=63, type=<class 'int'>, choices=None, help=None, metavar=None)"
      ]
     },
     "execution_count": 23,
     "metadata": {},
     "output_type": "execute_result"
    }
   ],
   "source": [
    "parser.add_argument('--n_fft', default=255, type=int)\n",
    "parser.add_argument('--hop_length_fft', default=63, type=int)"
   ]
  }
 ],
 "metadata": {
  "kernelspec": {
   "display_name": "Python 3",
   "language": "python",
   "name": "python3"
  },
  "language_info": {
   "codemirror_mode": {
    "name": "ipython",
    "version": 3
   },
   "file_extension": ".py",
   "mimetype": "text/x-python",
   "name": "python",
   "nbconvert_exporter": "python",
   "pygments_lexer": "ipython3",
   "version": "3.6.13"
  }
 },
 "nbformat": 4,
 "nbformat_minor": 5
}
